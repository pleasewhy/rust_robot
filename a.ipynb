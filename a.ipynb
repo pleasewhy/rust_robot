{
 "cells": [
  {
   "cell_type": "code",
   "execution_count": 1,
   "metadata": {},
   "outputs": [
    {
     "name": "stderr",
     "output_type": "stream",
     "text": [
      "[I 03/04/25 16:14:41.425 10730783] [shell.py:_shell_pop_print@23] Graphical python shell detected, using wrapped sys.stdout\n",
      "objc[63715]: Class GLFWHelper is implemented in both /Users/hy/miniconda3/lib/python3.12/site-packages/taichi/_lib/core/taichi_python.cpython-312-darwin.so (0x175a40570) and /Users/hy/miniconda3/lib/python3.12/site-packages/pygel3d/libPyGEL.dylib (0x323e717c0). One of the two will be used. Which one is undefined.\n",
      "objc[63715]: Class GLFWApplicationDelegate is implemented in both /Users/hy/miniconda3/lib/python3.12/site-packages/taichi/_lib/core/taichi_python.cpython-312-darwin.so (0x175a405c0) and /Users/hy/miniconda3/lib/python3.12/site-packages/pygel3d/libPyGEL.dylib (0x323e71810). One of the two will be used. Which one is undefined.\n",
      "objc[63715]: Class GLFWWindowDelegate is implemented in both /Users/hy/miniconda3/lib/python3.12/site-packages/taichi/_lib/core/taichi_python.cpython-312-darwin.so (0x175a405e8) and /Users/hy/miniconda3/lib/python3.12/site-packages/pygel3d/libPyGEL.dylib (0x323e71838). One of the two will be used. Which one is undefined.\n",
      "objc[63715]: Class GLFWContentView is implemented in both /Users/hy/miniconda3/lib/python3.12/site-packages/taichi/_lib/core/taichi_python.cpython-312-darwin.so (0x175a40638) and /Users/hy/miniconda3/lib/python3.12/site-packages/pygel3d/libPyGEL.dylib (0x323e71888). One of the two will be used. Which one is undefined.\n",
      "objc[63715]: Class GLFWWindow is implemented in both /Users/hy/miniconda3/lib/python3.12/site-packages/taichi/_lib/core/taichi_python.cpython-312-darwin.so (0x175a406b0) and /Users/hy/miniconda3/lib/python3.12/site-packages/pygel3d/libPyGEL.dylib (0x323e71900). One of the two will be used. Which one is undefined.\n",
      "\u001b[38;5;17m[Genesis] [16:14:44] [INFO] \u001b[38;5;23m╭───────────────────────────────────────────────╮\u001b[0m\u001b[38;5;17m\u001b[0m\n",
      "\u001b[38;5;17m[Genesis] [16:14:44] [INFO] \u001b[38;5;23m│┈┉┈┉┈┉┈┉┈┉┈┉┈┉┈┉┈┉┈\u001b[0m\u001b[38;5;17m \u001b[38;5;23m\u001b[1m\u001b[3mGenesis\u001b[0m\u001b[38;5;17m \u001b[38;5;23m┈┉┈┉┈┉┈┉┈┉┈┉┈┉┈┉┈┉┈│\u001b[0m\u001b[38;5;17m\u001b[0m\n",
      "\u001b[38;5;17m[Genesis] [16:14:44] [INFO] \u001b[38;5;23m╰───────────────────────────────────────────────╯\u001b[0m\u001b[38;5;17m\u001b[0m\n",
      "\u001b[38;5;17m[Genesis] [16:14:44] [INFO] Running on \u001b[38;5;23m\u001b[4m[Apple M2]\u001b[0m\u001b[38;5;17m with backend \u001b[38;5;23m\u001b[4mgs.cpu\u001b[0m\u001b[38;5;17m. Device memory: \u001b[38;5;23m\u001b[4m16.00\u001b[0m\u001b[38;5;17m GB.\u001b[0m\n",
      "\u001b[38;5;17m[Genesis] [16:14:44] [INFO] 🚀 Genesis initialized. 🔖 version: \u001b[38;5;23m\u001b[4m0.2.1\u001b[0m\u001b[38;5;17m, 🌱 seed: \u001b[38;5;23m\u001b[4mNone\u001b[0m\u001b[38;5;17m, 📏 precision: '\u001b[38;5;23m\u001b[4m32\u001b[0m\u001b[38;5;17m', 🐛 debug: \u001b[38;5;23m\u001b[4mFalse\u001b[0m\u001b[38;5;17m, 🎨 theme: '\u001b[38;5;23m\u001b[4mlight\u001b[0m\u001b[38;5;17m'.\u001b[0m\n"
     ]
    }
   ],
   "source": [
    "import genesis as gs\n",
    "gs.init(backend=gs.cpu, theme=\"light\")"
   ]
  },
  {
   "cell_type": "code",
   "execution_count": 2,
   "metadata": {},
   "outputs": [
    {
     "name": "stderr",
     "output_type": "stream",
     "text": [
      "\u001b[38;5;17m[Genesis] [16:14:48] [INFO] Scene \u001b[38;5;23m\u001b[3m<42ca6aa>\u001b[0m\u001b[38;5;17m created.\u001b[0m\n",
      "\u001b[38;5;17m[Genesis] [16:14:48] [INFO] Adding \u001b[38;5;23m<gs.RigidEntity>\u001b[0m\u001b[38;5;17m. idx: \u001b[38;5;23m0\u001b[0m\u001b[38;5;17m, uid: \u001b[38;5;23m\u001b[3m<00c0ba5>\u001b[0m\u001b[38;5;17m, morph: \u001b[38;5;23m<gs.morphs.Plane>\u001b[0m\u001b[38;5;17m, material: \u001b[38;5;23m<gs.materials.Rigid>\u001b[0m\u001b[38;5;17m.\u001b[0m\n",
      "\u001b[38;5;17m[Genesis] [16:14:48] [INFO] Adding \u001b[38;5;23m<gs.RigidEntity>\u001b[0m\u001b[38;5;17m. idx: \u001b[38;5;23m1\u001b[0m\u001b[38;5;17m, uid: \u001b[38;5;23m\u001b[3m<9fcd049>\u001b[0m\u001b[38;5;17m, morph: \u001b[38;5;23m<gs.morphs.MJCF(file='/Users/hy/Desktop/workplace/rust_robot/humanoid.xml')>\u001b[0m\u001b[38;5;17m, material: \u001b[38;5;23m<gs.materials.Rigid>\u001b[0m\u001b[38;5;17m.\u001b[0m\n",
      "\u001b[38;5;3m[Genesis] [16:14:48] [WARNING] `kp` in `gainprm` doesn't match `-kp` in `biasprm`.\u001b[0m\n",
      "\u001b[38;5;3m[Genesis] [16:14:48] [WARNING] `kp` in `gainprm` doesn't match `-kp` in `biasprm`.\u001b[0m\n",
      "\u001b[38;5;3m[Genesis] [16:14:48] [WARNING] `kp` in `gainprm` doesn't match `-kp` in `biasprm`.\u001b[0m\n",
      "\u001b[38;5;3m[Genesis] [16:14:48] [WARNING] `kp` in `gainprm` doesn't match `-kp` in `biasprm`.\u001b[0m\n",
      "\u001b[38;5;3m[Genesis] [16:14:48] [WARNING] `kp` in `gainprm` doesn't match `-kp` in `biasprm`.\u001b[0m\n",
      "\u001b[38;5;3m[Genesis] [16:14:48] [WARNING] `kp` in `gainprm` doesn't match `-kp` in `biasprm`.\u001b[0m\n",
      "\u001b[38;5;3m[Genesis] [16:14:48] [WARNING] `kp` in `gainprm` doesn't match `-kp` in `biasprm`.\u001b[0m\n",
      "\u001b[38;5;3m[Genesis] [16:14:48] [WARNING] `kp` in `gainprm` doesn't match `-kp` in `biasprm`.\u001b[0m\n",
      "\u001b[38;5;3m[Genesis] [16:14:48] [WARNING] `kp` in `gainprm` doesn't match `-kp` in `biasprm`.\u001b[0m\n",
      "\u001b[38;5;3m[Genesis] [16:14:48] [WARNING] `kp` in `gainprm` doesn't match `-kp` in `biasprm`.\u001b[0m\n",
      "\u001b[38;5;3m[Genesis] [16:14:48] [WARNING] `kp` in `gainprm` doesn't match `-kp` in `biasprm`.\u001b[0m\n",
      "\u001b[38;5;3m[Genesis] [16:14:48] [WARNING] `kp` in `gainprm` doesn't match `-kp` in `biasprm`.\u001b[0m\n",
      "\u001b[38;5;3m[Genesis] [16:14:48] [WARNING] `kp` in `gainprm` doesn't match `-kp` in `biasprm`.\u001b[0m\n",
      "\u001b[38;5;3m[Genesis] [16:14:48] [WARNING] `kp` in `gainprm` doesn't match `-kp` in `biasprm`.\u001b[0m\n",
      "\u001b[38;5;3m[Genesis] [16:14:48] [WARNING] `kp` in `gainprm` doesn't match `-kp` in `biasprm`.\u001b[0m\n",
      "\u001b[38;5;3m[Genesis] [16:14:48] [WARNING] `kp` in `gainprm` doesn't match `-kp` in `biasprm`.\u001b[0m\n",
      "\u001b[38;5;3m[Genesis] [16:14:48] [WARNING] `kp` in `gainprm` doesn't match `-kp` in `biasprm`.\u001b[0m\n",
      "\u001b[38;5;3m[Genesis] [16:14:48] [WARNING] `kp` in `gainprm` doesn't match `-kp` in `biasprm`.\u001b[0m\n",
      "\u001b[38;5;3m[Genesis] [16:14:48] [WARNING] `kp` in `gainprm` doesn't match `-kp` in `biasprm`.\u001b[0m\n",
      "\u001b[38;5;3m[Genesis] [16:14:48] [WARNING] `kp` in `gainprm` doesn't match `-kp` in `biasprm`.\u001b[0m\n",
      "\u001b[38;5;3m[Genesis] [16:14:48] [WARNING] `kp` in `gainprm` doesn't match `-kp` in `biasprm`.\u001b[0m\n",
      "\u001b[38;5;17m[Genesis] [16:14:49] [INFO] Building scene \u001b[38;5;23m\u001b[3m<42ca6aa>\u001b[0m\u001b[38;5;17m...\u001b[0m\n",
      "[W 03/04/25 16:14:49.471 10730783] [frontend_ir.cpp:begin_frontend_struct_for_on_snode@1678] ti.loop_config(serialize=True) does not have effect on the struct for. The execution order is not guaranteed.\n",
      "[W 03/04/25 16:14:50.199 10730783] [frontend_ir.cpp:begin_frontend_struct_for_on_snode@1678] ti.loop_config(serialize=True) does not have effect on the struct for. The execution order is not guaranteed.\n",
      "[W 03/04/25 16:14:59.741 10730783] [frontend_ir.cpp:begin_frontend_struct_for_on_snode@1678] ti.loop_config(serialize=True) does not have effect on the struct for. The execution order is not guaranteed.\n",
      "\u001b[38;5;17m[Genesis] [16:14:59] [INFO] Compiling simulation kernels...\u001b[0m\n",
      "\u001b[38;5;17m[Genesis] [16:15:30] [INFO] Building visualizer...\u001b[0m\n"
     ]
    }
   ],
   "source": [
    "import torch\n",
    "import genesis as gs\n",
    "\n",
    "# gs.init(backend=gs.gpu, theme=\"light\")\n",
    "\n",
    "scene = gs.Scene(\n",
    "    show_viewer   = False,\n",
    "    rigid_options = gs.options.RigidOptions(\n",
    "        dt                = 0.01,\n",
    "    ),\n",
    ")\n",
    "\n",
    "plane = scene.add_entity(\n",
    "    gs.morphs.Plane(),\n",
    ")\n",
    "\n",
    "franka = scene.add_entity(\n",
    "    gs.morphs.MJCF(file='/Users/hy/Desktop/workplace/rust_robot/humanoid.xml'),\n",
    ")\n",
    "\n",
    "scene.build(n_envs=30000)"
   ]
  },
  {
   "cell_type": "code",
   "execution_count": 4,
   "metadata": {},
   "outputs": [
    {
     "name": "stdout",
     "output_type": "stream",
     "text": [
      "0\n"
     ]
    },
    {
     "name": "stderr",
     "output_type": "stream",
     "text": [
      "\u001b[38;5;17m[Genesis] [16:16:17] [INFO] Running at \u001b[38;5;23m13,805.94\u001b[0m\u001b[38;5;17m FPS (\u001b[38;5;23m0.46\u001b[0m\u001b[38;5;17m FPS per env, \u001b[38;5;23m30000\u001b[0m\u001b[38;5;17m envs).\u001b[0m\n"
     ]
    },
    {
     "name": "stdout",
     "output_type": "stream",
     "text": [
      "1\n"
     ]
    },
    {
     "name": "stderr",
     "output_type": "stream",
     "text": [
      "\u001b[38;5;17m[Genesis] [16:16:21] [INFO] Running at \u001b[38;5;23m13,192.26\u001b[0m\u001b[38;5;17m FPS (\u001b[38;5;23m0.44\u001b[0m\u001b[38;5;17m FPS per env, \u001b[38;5;23m30000\u001b[0m\u001b[38;5;17m envs).\u001b[0m\n"
     ]
    },
    {
     "name": "stdout",
     "output_type": "stream",
     "text": [
      "2\n"
     ]
    },
    {
     "name": "stderr",
     "output_type": "stream",
     "text": [
      "\u001b[38;5;17m[Genesis] [16:16:27] [INFO] Running at \u001b[38;5;23m12,322.50\u001b[0m\u001b[38;5;17m FPS (\u001b[38;5;23m0.41\u001b[0m\u001b[38;5;17m FPS per env, \u001b[38;5;23m30000\u001b[0m\u001b[38;5;17m envs).\u001b[0m\n"
     ]
    },
    {
     "name": "stdout",
     "output_type": "stream",
     "text": [
      "3\n"
     ]
    },
    {
     "name": "stderr",
     "output_type": "stream",
     "text": [
      "\u001b[38;5;17m[Genesis] [16:16:30] [INFO] Running at \u001b[38;5;23m12,075.20\u001b[0m\u001b[38;5;17m FPS (\u001b[38;5;23m0.40\u001b[0m\u001b[38;5;17m FPS per env, \u001b[38;5;23m30000\u001b[0m\u001b[38;5;17m envs).\u001b[0m\n"
     ]
    },
    {
     "name": "stdout",
     "output_type": "stream",
     "text": [
      "4\n"
     ]
    },
    {
     "name": "stderr",
     "output_type": "stream",
     "text": [
      "\u001b[38;5;17m[Genesis] [16:16:33] [INFO] Running at \u001b[38;5;23m11,962.36\u001b[0m\u001b[38;5;17m FPS (\u001b[38;5;23m0.40\u001b[0m\u001b[38;5;17m FPS per env, \u001b[38;5;23m30000\u001b[0m\u001b[38;5;17m envs).\u001b[0m\n"
     ]
    },
    {
     "name": "stdout",
     "output_type": "stream",
     "text": [
      "5\n"
     ]
    },
    {
     "name": "stderr",
     "output_type": "stream",
     "text": [
      "\u001b[38;5;17m[Genesis] [16:16:36] [INFO] Running at \u001b[38;5;23m11,801.84\u001b[0m\u001b[38;5;17m FPS (\u001b[38;5;23m0.39\u001b[0m\u001b[38;5;17m FPS per env, \u001b[38;5;23m30000\u001b[0m\u001b[38;5;17m envs).\u001b[0m\n"
     ]
    },
    {
     "name": "stdout",
     "output_type": "stream",
     "text": [
      "6\n"
     ]
    },
    {
     "name": "stderr",
     "output_type": "stream",
     "text": [
      "\u001b[38;5;17m[Genesis] [16:16:40] [INFO] Running at \u001b[38;5;23m11,598.49\u001b[0m\u001b[38;5;17m FPS (\u001b[38;5;23m0.39\u001b[0m\u001b[38;5;17m FPS per env, \u001b[38;5;23m30000\u001b[0m\u001b[38;5;17m envs).\u001b[0m\n"
     ]
    },
    {
     "name": "stdout",
     "output_type": "stream",
     "text": [
      "7\n"
     ]
    },
    {
     "name": "stderr",
     "output_type": "stream",
     "text": [
      "\u001b[38;5;17m[Genesis] [16:16:43] [INFO] Running at \u001b[38;5;23m11,510.98\u001b[0m\u001b[38;5;17m FPS (\u001b[38;5;23m0.38\u001b[0m\u001b[38;5;17m FPS per env, \u001b[38;5;23m30000\u001b[0m\u001b[38;5;17m envs).\u001b[0m\n"
     ]
    },
    {
     "name": "stdout",
     "output_type": "stream",
     "text": [
      "8\n"
     ]
    },
    {
     "name": "stderr",
     "output_type": "stream",
     "text": [
      "\u001b[38;5;17m[Genesis] [16:16:46] [INFO] Running at \u001b[38;5;23m11,322.73\u001b[0m\u001b[38;5;17m FPS (\u001b[38;5;23m0.38\u001b[0m\u001b[38;5;17m FPS per env, \u001b[38;5;23m30000\u001b[0m\u001b[38;5;17m envs).\u001b[0m\n"
     ]
    },
    {
     "name": "stdout",
     "output_type": "stream",
     "text": [
      "9\n"
     ]
    },
    {
     "name": "stderr",
     "output_type": "stream",
     "text": [
      "\u001b[38;5;17m[Genesis] [16:16:49] [INFO] Running at \u001b[38;5;23m11,198.29\u001b[0m\u001b[38;5;17m FPS (\u001b[38;5;23m0.37\u001b[0m\u001b[38;5;17m FPS per env, \u001b[38;5;23m30000\u001b[0m\u001b[38;5;17m envs).\u001b[0m\n"
     ]
    },
    {
     "name": "stdout",
     "output_type": "stream",
     "text": [
      "10\n"
     ]
    },
    {
     "name": "stderr",
     "output_type": "stream",
     "text": [
      "\u001b[38;5;17m[Genesis] [16:16:52] [INFO] Running at \u001b[38;5;23m11,125.51\u001b[0m\u001b[38;5;17m FPS (\u001b[38;5;23m0.37\u001b[0m\u001b[38;5;17m FPS per env, \u001b[38;5;23m30000\u001b[0m\u001b[38;5;17m envs).\u001b[0m\n"
     ]
    },
    {
     "name": "stdout",
     "output_type": "stream",
     "text": [
      "11\n"
     ]
    },
    {
     "name": "stderr",
     "output_type": "stream",
     "text": [
      "\u001b[38;5;17m[Genesis] [16:16:56] [INFO] Running at \u001b[38;5;23m11,015.96\u001b[0m\u001b[38;5;17m FPS (\u001b[38;5;23m0.37\u001b[0m\u001b[38;5;17m FPS per env, \u001b[38;5;23m30000\u001b[0m\u001b[38;5;17m envs).\u001b[0m\n"
     ]
    },
    {
     "name": "stdout",
     "output_type": "stream",
     "text": [
      "12\n"
     ]
    },
    {
     "name": "stderr",
     "output_type": "stream",
     "text": [
      "\u001b[38;5;17m[Genesis] [16:17:00] [INFO] Running at \u001b[38;5;23m10,768.42\u001b[0m\u001b[38;5;17m FPS (\u001b[38;5;23m0.36\u001b[0m\u001b[38;5;17m FPS per env, \u001b[38;5;23m30000\u001b[0m\u001b[38;5;17m envs).\u001b[0m\n"
     ]
    },
    {
     "name": "stdout",
     "output_type": "stream",
     "text": [
      "13\n"
     ]
    },
    {
     "name": "stderr",
     "output_type": "stream",
     "text": [
      "\u001b[38;5;17m[Genesis] [16:17:03] [INFO] Running at \u001b[38;5;23m10,674.41\u001b[0m\u001b[38;5;17m FPS (\u001b[38;5;23m0.36\u001b[0m\u001b[38;5;17m FPS per env, \u001b[38;5;23m30000\u001b[0m\u001b[38;5;17m envs).\u001b[0m\n"
     ]
    },
    {
     "name": "stdout",
     "output_type": "stream",
     "text": [
      "14\n"
     ]
    },
    {
     "name": "stderr",
     "output_type": "stream",
     "text": [
      "\u001b[38;5;17m[Genesis] [16:17:06] [INFO] Running at \u001b[38;5;23m10,588.05\u001b[0m\u001b[38;5;17m FPS (\u001b[38;5;23m0.35\u001b[0m\u001b[38;5;17m FPS per env, \u001b[38;5;23m30000\u001b[0m\u001b[38;5;17m envs).\u001b[0m\n"
     ]
    },
    {
     "name": "stdout",
     "output_type": "stream",
     "text": [
      "15\n"
     ]
    },
    {
     "name": "stderr",
     "output_type": "stream",
     "text": [
      "\u001b[38;5;17m[Genesis] [16:17:09] [INFO] Running at \u001b[38;5;23m10,511.08\u001b[0m\u001b[38;5;17m FPS (\u001b[38;5;23m0.35\u001b[0m\u001b[38;5;17m FPS per env, \u001b[38;5;23m30000\u001b[0m\u001b[38;5;17m envs).\u001b[0m\n"
     ]
    },
    {
     "name": "stdout",
     "output_type": "stream",
     "text": [
      "16\n"
     ]
    },
    {
     "name": "stderr",
     "output_type": "stream",
     "text": [
      "\u001b[38;5;17m[Genesis] [16:17:14] [INFO] Running at \u001b[38;5;23m10,276.70\u001b[0m\u001b[38;5;17m FPS (\u001b[38;5;23m0.34\u001b[0m\u001b[38;5;17m FPS per env, \u001b[38;5;23m30000\u001b[0m\u001b[38;5;17m envs).\u001b[0m\n"
     ]
    },
    {
     "name": "stdout",
     "output_type": "stream",
     "text": [
      "17\n"
     ]
    },
    {
     "name": "stderr",
     "output_type": "stream",
     "text": [
      "\u001b[38;5;17m[Genesis] [16:17:17] [INFO] Running at \u001b[38;5;23m10,204.85\u001b[0m\u001b[38;5;17m FPS (\u001b[38;5;23m0.34\u001b[0m\u001b[38;5;17m FPS per env, \u001b[38;5;23m30000\u001b[0m\u001b[38;5;17m envs).\u001b[0m\n"
     ]
    },
    {
     "name": "stdout",
     "output_type": "stream",
     "text": [
      "18\n"
     ]
    },
    {
     "name": "stderr",
     "output_type": "stream",
     "text": [
      "\u001b[38;5;17m[Genesis] [16:17:20] [INFO] Running at \u001b[38;5;23m10,110.07\u001b[0m\u001b[38;5;17m FPS (\u001b[38;5;23m0.34\u001b[0m\u001b[38;5;17m FPS per env, \u001b[38;5;23m30000\u001b[0m\u001b[38;5;17m envs).\u001b[0m\n"
     ]
    },
    {
     "name": "stdout",
     "output_type": "stream",
     "text": [
      "19\n"
     ]
    },
    {
     "name": "stderr",
     "output_type": "stream",
     "text": [
      "\u001b[38;5;17m[Genesis] [16:17:23] [INFO] Running at \u001b[38;5;23m10,103.40\u001b[0m\u001b[38;5;17m FPS (\u001b[38;5;23m0.34\u001b[0m\u001b[38;5;17m FPS per env, \u001b[38;5;23m30000\u001b[0m\u001b[38;5;17m envs).\u001b[0m\n"
     ]
    },
    {
     "name": "stdout",
     "output_type": "stream",
     "text": [
      "20\n"
     ]
    },
    {
     "name": "stderr",
     "output_type": "stream",
     "text": [
      "\u001b[38;5;17m[Genesis] [16:17:27] [INFO] Running at \u001b[38;5;23m9,982.27\u001b[0m\u001b[38;5;17m FPS (\u001b[38;5;23m0.33\u001b[0m\u001b[38;5;17m FPS per env, \u001b[38;5;23m30000\u001b[0m\u001b[38;5;17m envs).\u001b[0m\n"
     ]
    },
    {
     "name": "stdout",
     "output_type": "stream",
     "text": [
      "21\n"
     ]
    },
    {
     "name": "stderr",
     "output_type": "stream",
     "text": [
      "\u001b[38;5;17m[Genesis] [16:17:30] [INFO] Running at \u001b[38;5;23m9,945.93\u001b[0m\u001b[38;5;17m FPS (\u001b[38;5;23m0.33\u001b[0m\u001b[38;5;17m FPS per env, \u001b[38;5;23m30000\u001b[0m\u001b[38;5;17m envs).\u001b[0m\n"
     ]
    },
    {
     "name": "stdout",
     "output_type": "stream",
     "text": [
      "22\n"
     ]
    },
    {
     "name": "stderr",
     "output_type": "stream",
     "text": [
      "\u001b[38;5;17m[Genesis] [16:17:33] [INFO] Running at \u001b[38;5;23m9,949.70\u001b[0m\u001b[38;5;17m FPS (\u001b[38;5;23m0.33\u001b[0m\u001b[38;5;17m FPS per env, \u001b[38;5;23m30000\u001b[0m\u001b[38;5;17m envs).\u001b[0m\n"
     ]
    },
    {
     "name": "stdout",
     "output_type": "stream",
     "text": [
      "23\n"
     ]
    },
    {
     "name": "stderr",
     "output_type": "stream",
     "text": [
      "\u001b[38;5;17m[Genesis] [16:17:37] [INFO] Running at \u001b[38;5;23m9,798.63\u001b[0m\u001b[38;5;17m FPS (\u001b[38;5;23m0.33\u001b[0m\u001b[38;5;17m FPS per env, \u001b[38;5;23m30000\u001b[0m\u001b[38;5;17m envs).\u001b[0m\n"
     ]
    },
    {
     "name": "stdout",
     "output_type": "stream",
     "text": [
      "24\n"
     ]
    },
    {
     "name": "stderr",
     "output_type": "stream",
     "text": [
      "\u001b[38;5;17m[Genesis] [16:17:40] [INFO] Running at \u001b[38;5;23m9,808.53\u001b[0m\u001b[38;5;17m FPS (\u001b[38;5;23m0.33\u001b[0m\u001b[38;5;17m FPS per env, \u001b[38;5;23m30000\u001b[0m\u001b[38;5;17m envs).\u001b[0m\n"
     ]
    },
    {
     "name": "stdout",
     "output_type": "stream",
     "text": [
      "25\n"
     ]
    },
    {
     "name": "stderr",
     "output_type": "stream",
     "text": [
      "\u001b[38;5;17m[Genesis] [16:17:44] [INFO] Running at \u001b[38;5;23m9,705.52\u001b[0m\u001b[38;5;17m FPS (\u001b[38;5;23m0.32\u001b[0m\u001b[38;5;17m FPS per env, \u001b[38;5;23m30000\u001b[0m\u001b[38;5;17m envs).\u001b[0m\n"
     ]
    },
    {
     "name": "stdout",
     "output_type": "stream",
     "text": [
      "26\n"
     ]
    },
    {
     "name": "stderr",
     "output_type": "stream",
     "text": [
      "\u001b[38;5;17m[Genesis] [16:17:47] [INFO] Running at \u001b[38;5;23m9,753.75\u001b[0m\u001b[38;5;17m FPS (\u001b[38;5;23m0.33\u001b[0m\u001b[38;5;17m FPS per env, \u001b[38;5;23m30000\u001b[0m\u001b[38;5;17m envs).\u001b[0m\n"
     ]
    },
    {
     "name": "stdout",
     "output_type": "stream",
     "text": [
      "27\n"
     ]
    },
    {
     "name": "stderr",
     "output_type": "stream",
     "text": [
      "\u001b[38;5;17m[Genesis] [16:17:51] [INFO] Running at \u001b[38;5;23m9,637.65\u001b[0m\u001b[38;5;17m FPS (\u001b[38;5;23m0.32\u001b[0m\u001b[38;5;17m FPS per env, \u001b[38;5;23m30000\u001b[0m\u001b[38;5;17m envs).\u001b[0m\n"
     ]
    },
    {
     "name": "stdout",
     "output_type": "stream",
     "text": [
      "28\n"
     ]
    },
    {
     "name": "stderr",
     "output_type": "stream",
     "text": [
      "\u001b[38;5;17m[Genesis] [16:17:54] [INFO] Running at \u001b[38;5;23m9,657.17\u001b[0m\u001b[38;5;17m FPS (\u001b[38;5;23m0.32\u001b[0m\u001b[38;5;17m FPS per env, \u001b[38;5;23m30000\u001b[0m\u001b[38;5;17m envs).\u001b[0m\n"
     ]
    },
    {
     "name": "stdout",
     "output_type": "stream",
     "text": [
      "29\n"
     ]
    },
    {
     "name": "stderr",
     "output_type": "stream",
     "text": [
      "\u001b[38;5;17m[Genesis] [16:17:58] [INFO] Running at \u001b[38;5;23m9,528.38\u001b[0m\u001b[38;5;17m FPS (\u001b[38;5;23m0.32\u001b[0m\u001b[38;5;17m FPS per env, \u001b[38;5;23m30000\u001b[0m\u001b[38;5;17m envs).\u001b[0m\n"
     ]
    },
    {
     "name": "stdout",
     "output_type": "stream",
     "text": [
      "30\n"
     ]
    },
    {
     "name": "stderr",
     "output_type": "stream",
     "text": [
      "\u001b[38;5;17m[Genesis] [16:18:01] [INFO] Running at \u001b[38;5;23m9,518.78\u001b[0m\u001b[38;5;17m FPS (\u001b[38;5;23m0.32\u001b[0m\u001b[38;5;17m FPS per env, \u001b[38;5;23m30000\u001b[0m\u001b[38;5;17m envs).\u001b[0m\n"
     ]
    },
    {
     "name": "stdout",
     "output_type": "stream",
     "text": [
      "31\n"
     ]
    },
    {
     "name": "stderr",
     "output_type": "stream",
     "text": [
      "\u001b[38;5;17m[Genesis] [16:18:05] [INFO] Running at \u001b[38;5;23m9,399.16\u001b[0m\u001b[38;5;17m FPS (\u001b[38;5;23m0.31\u001b[0m\u001b[38;5;17m FPS per env, \u001b[38;5;23m30000\u001b[0m\u001b[38;5;17m envs).\u001b[0m\n"
     ]
    },
    {
     "name": "stdout",
     "output_type": "stream",
     "text": [
      "32\n"
     ]
    },
    {
     "name": "stderr",
     "output_type": "stream",
     "text": [
      "\u001b[38;5;17m[Genesis] [16:18:13] [INFO] Running at \u001b[38;5;23m8,705.64\u001b[0m\u001b[38;5;17m FPS (\u001b[38;5;23m0.29\u001b[0m\u001b[38;5;17m FPS per env, \u001b[38;5;23m30000\u001b[0m\u001b[38;5;17m envs).\u001b[0m\n"
     ]
    },
    {
     "name": "stdout",
     "output_type": "stream",
     "text": [
      "33\n"
     ]
    },
    {
     "name": "stderr",
     "output_type": "stream",
     "text": [
      "\u001b[38;5;17m[Genesis] [16:18:18] [INFO] Running at \u001b[38;5;23m8,490.65\u001b[0m\u001b[38;5;17m FPS (\u001b[38;5;23m0.28\u001b[0m\u001b[38;5;17m FPS per env, \u001b[38;5;23m30000\u001b[0m\u001b[38;5;17m envs).\u001b[0m\n"
     ]
    },
    {
     "name": "stdout",
     "output_type": "stream",
     "text": [
      "34\n"
     ]
    },
    {
     "name": "stderr",
     "output_type": "stream",
     "text": [
      "\u001b[38;5;17m[Genesis] [16:18:23] [INFO] Running at \u001b[38;5;23m8,369.22\u001b[0m\u001b[38;5;17m FPS (\u001b[38;5;23m0.28\u001b[0m\u001b[38;5;17m FPS per env, \u001b[38;5;23m30000\u001b[0m\u001b[38;5;17m envs).\u001b[0m\n"
     ]
    },
    {
     "name": "stdout",
     "output_type": "stream",
     "text": [
      "35\n"
     ]
    },
    {
     "name": "stderr",
     "output_type": "stream",
     "text": [
      "\u001b[38;5;17m[Genesis] [16:18:27] [INFO] Running at \u001b[38;5;23m8,288.32\u001b[0m\u001b[38;5;17m FPS (\u001b[38;5;23m0.28\u001b[0m\u001b[38;5;17m FPS per env, \u001b[38;5;23m30000\u001b[0m\u001b[38;5;17m envs).\u001b[0m\n"
     ]
    },
    {
     "name": "stdout",
     "output_type": "stream",
     "text": [
      "36\n"
     ]
    },
    {
     "name": "stderr",
     "output_type": "stream",
     "text": [
      "\u001b[38;5;17m[Genesis] [16:18:31] [INFO] Running at \u001b[38;5;23m8,298.50\u001b[0m\u001b[38;5;17m FPS (\u001b[38;5;23m0.28\u001b[0m\u001b[38;5;17m FPS per env, \u001b[38;5;23m30000\u001b[0m\u001b[38;5;17m envs).\u001b[0m\n"
     ]
    },
    {
     "name": "stdout",
     "output_type": "stream",
     "text": [
      "37\n"
     ]
    },
    {
     "name": "stderr",
     "output_type": "stream",
     "text": [
      "\u001b[38;5;17m[Genesis] [16:18:34] [INFO] Running at \u001b[38;5;23m8,280.88\u001b[0m\u001b[38;5;17m FPS (\u001b[38;5;23m0.28\u001b[0m\u001b[38;5;17m FPS per env, \u001b[38;5;23m30000\u001b[0m\u001b[38;5;17m envs).\u001b[0m\n"
     ]
    },
    {
     "name": "stdout",
     "output_type": "stream",
     "text": [
      "38\n"
     ]
    },
    {
     "name": "stderr",
     "output_type": "stream",
     "text": [
      "\u001b[38;5;17m[Genesis] [16:18:38] [INFO] Running at \u001b[38;5;23m8,260.18\u001b[0m\u001b[38;5;17m FPS (\u001b[38;5;23m0.28\u001b[0m\u001b[38;5;17m FPS per env, \u001b[38;5;23m30000\u001b[0m\u001b[38;5;17m envs).\u001b[0m\n"
     ]
    },
    {
     "name": "stdout",
     "output_type": "stream",
     "text": [
      "39\n"
     ]
    },
    {
     "name": "stderr",
     "output_type": "stream",
     "text": [
      "\u001b[38;5;17m[Genesis] [16:18:42] [INFO] Running at \u001b[38;5;23m8,253.44\u001b[0m\u001b[38;5;17m FPS (\u001b[38;5;23m0.28\u001b[0m\u001b[38;5;17m FPS per env, \u001b[38;5;23m30000\u001b[0m\u001b[38;5;17m envs).\u001b[0m\n"
     ]
    },
    {
     "name": "stdout",
     "output_type": "stream",
     "text": [
      "40\n"
     ]
    },
    {
     "name": "stderr",
     "output_type": "stream",
     "text": [
      "\u001b[38;5;17m[Genesis] [16:18:46] [INFO] Running at \u001b[38;5;23m8,225.70\u001b[0m\u001b[38;5;17m FPS (\u001b[38;5;23m0.27\u001b[0m\u001b[38;5;17m FPS per env, \u001b[38;5;23m30000\u001b[0m\u001b[38;5;17m envs).\u001b[0m\n"
     ]
    },
    {
     "name": "stdout",
     "output_type": "stream",
     "text": [
      "41\n"
     ]
    },
    {
     "name": "stderr",
     "output_type": "stream",
     "text": [
      "\u001b[38;5;17m[Genesis] [16:18:51] [INFO] Running at \u001b[38;5;23m8,033.04\u001b[0m\u001b[38;5;17m FPS (\u001b[38;5;23m0.27\u001b[0m\u001b[38;5;17m FPS per env, \u001b[38;5;23m30000\u001b[0m\u001b[38;5;17m envs).\u001b[0m\n"
     ]
    },
    {
     "name": "stdout",
     "output_type": "stream",
     "text": [
      "42\n"
     ]
    },
    {
     "name": "stderr",
     "output_type": "stream",
     "text": [
      "\u001b[38;5;17m[Genesis] [16:18:57] [INFO] Running at \u001b[38;5;23m7,839.52\u001b[0m\u001b[38;5;17m FPS (\u001b[38;5;23m0.26\u001b[0m\u001b[38;5;17m FPS per env, \u001b[38;5;23m30000\u001b[0m\u001b[38;5;17m envs).\u001b[0m\n"
     ]
    },
    {
     "name": "stdout",
     "output_type": "stream",
     "text": [
      "43\n"
     ]
    },
    {
     "ename": "KeyboardInterrupt",
     "evalue": "",
     "output_type": "error",
     "traceback": [
      "\u001b[0;31m---------------------------------------------------------------------------\u001b[0m",
      "\u001b[0;31mKeyboardInterrupt\u001b[0m                         Traceback (most recent call last)",
      "Cell \u001b[0;32mIn[4], line 3\u001b[0m\n\u001b[1;32m      1\u001b[0m \u001b[38;5;28;01mfor\u001b[39;00m i \u001b[38;5;129;01min\u001b[39;00m \u001b[38;5;28mrange\u001b[39m(\u001b[38;5;241m1000\u001b[39m):\n\u001b[1;32m      2\u001b[0m     \u001b[38;5;28mprint\u001b[39m(i)\n\u001b[0;32m----> 3\u001b[0m     \u001b[43mscene\u001b[49m\u001b[38;5;241;43m.\u001b[39;49m\u001b[43mstep\u001b[49m\u001b[43m(\u001b[49m\u001b[43m)\u001b[49m\n",
      "File \u001b[0;32m~/miniconda3/lib/python3.12/site-packages/genesis/utils/misc.py:48\u001b[0m, in \u001b[0;36massert_built.<locals>.wrapper\u001b[0;34m(self, *args, **kwargs)\u001b[0m\n\u001b[1;32m     46\u001b[0m \u001b[38;5;28;01mif\u001b[39;00m \u001b[38;5;129;01mnot\u001b[39;00m \u001b[38;5;28mself\u001b[39m\u001b[38;5;241m.\u001b[39mis_built:\n\u001b[1;32m     47\u001b[0m     gs\u001b[38;5;241m.\u001b[39mraise_exception(\u001b[38;5;124m\"\u001b[39m\u001b[38;5;124mScene is not built yet.\u001b[39m\u001b[38;5;124m\"\u001b[39m)\n\u001b[0;32m---> 48\u001b[0m \u001b[38;5;28;01mreturn\u001b[39;00m \u001b[43mmethod\u001b[49m\u001b[43m(\u001b[49m\u001b[38;5;28;43mself\u001b[39;49m\u001b[43m,\u001b[49m\u001b[43m \u001b[49m\u001b[38;5;241;43m*\u001b[39;49m\u001b[43margs\u001b[49m\u001b[43m,\u001b[49m\u001b[43m \u001b[49m\u001b[38;5;241;43m*\u001b[39;49m\u001b[38;5;241;43m*\u001b[39;49m\u001b[43mkwargs\u001b[49m\u001b[43m)\u001b[49m\n",
      "File \u001b[0;32m~/miniconda3/lib/python3.12/site-packages/genesis/engine/scene.py:722\u001b[0m, in \u001b[0;36mScene.step\u001b[0;34m(self, update_visualizer)\u001b[0m\n\u001b[1;32m    719\u001b[0m \u001b[38;5;28;01mif\u001b[39;00m \u001b[38;5;129;01mnot\u001b[39;00m \u001b[38;5;28mself\u001b[39m\u001b[38;5;241m.\u001b[39m_forward_ready:\n\u001b[1;32m    720\u001b[0m     gs\u001b[38;5;241m.\u001b[39mraise_exception(\u001b[38;5;124m\"\u001b[39m\u001b[38;5;124mForward simulation not allowed after backward pass. Please reset scene state.\u001b[39m\u001b[38;5;124m\"\u001b[39m)\n\u001b[0;32m--> 722\u001b[0m \u001b[38;5;28;43mself\u001b[39;49m\u001b[38;5;241;43m.\u001b[39;49m\u001b[43m_sim\u001b[49m\u001b[38;5;241;43m.\u001b[39;49m\u001b[43mstep\u001b[49m\u001b[43m(\u001b[49m\u001b[43m)\u001b[49m\n\u001b[1;32m    724\u001b[0m \u001b[38;5;28mself\u001b[39m\u001b[38;5;241m.\u001b[39m_t \u001b[38;5;241m+\u001b[39m\u001b[38;5;241m=\u001b[39m \u001b[38;5;241m1\u001b[39m\n\u001b[1;32m    726\u001b[0m \u001b[38;5;28;01mif\u001b[39;00m update_visualizer:\n",
      "File \u001b[0;32m~/miniconda3/lib/python3.12/site-packages/genesis/engine/simulator.py:234\u001b[0m, in \u001b[0;36mSimulator.step\u001b[0;34m(self, in_backward)\u001b[0m\n\u001b[1;32m    232\u001b[0m \u001b[38;5;28;01mif\u001b[39;00m \u001b[38;5;28mself\u001b[39m\u001b[38;5;241m.\u001b[39m_rigid_only:  \u001b[38;5;66;03m# \"Only Advance!\" --Thomas Wade :P\u001b[39;00m\n\u001b[1;32m    233\u001b[0m     \u001b[38;5;28;01mfor\u001b[39;00m _ \u001b[38;5;129;01min\u001b[39;00m \u001b[38;5;28mrange\u001b[39m(\u001b[38;5;28mself\u001b[39m\u001b[38;5;241m.\u001b[39m_substeps):\n\u001b[0;32m--> 234\u001b[0m         \u001b[38;5;28;43mself\u001b[39;49m\u001b[38;5;241;43m.\u001b[39;49m\u001b[43mrigid_solver\u001b[49m\u001b[38;5;241;43m.\u001b[39;49m\u001b[43msubstep\u001b[49m\u001b[43m(\u001b[49m\u001b[43m)\u001b[49m\n\u001b[1;32m    235\u001b[0m         \u001b[38;5;28mself\u001b[39m\u001b[38;5;241m.\u001b[39m_cur_substep_global \u001b[38;5;241m+\u001b[39m\u001b[38;5;241m=\u001b[39m \u001b[38;5;241m1\u001b[39m\n\u001b[1;32m    237\u001b[0m \u001b[38;5;28;01melse\u001b[39;00m:\n",
      "File \u001b[0;32m~/miniconda3/lib/python3.12/site-packages/genesis/engine/solvers/rigid/rigid_solver_decomp.py:1371\u001b[0m, in \u001b[0;36mRigidSolver.substep\u001b[0;34m(self)\u001b[0m\n\u001b[1;32m   1368\u001b[0m timer\u001b[38;5;241m.\u001b[39mstamp(\u001b[38;5;124m\"\u001b[39m\u001b[38;5;124mkernel_step_1\u001b[39m\u001b[38;5;124m\"\u001b[39m)\n\u001b[1;32m   1370\u001b[0m \u001b[38;5;66;03m# constraint force\u001b[39;00m\n\u001b[0;32m-> 1371\u001b[0m \u001b[38;5;28;43mself\u001b[39;49m\u001b[38;5;241;43m.\u001b[39;49m\u001b[43m_func_constraint_force\u001b[49m\u001b[43m(\u001b[49m\u001b[43m)\u001b[49m\n\u001b[1;32m   1372\u001b[0m timer\u001b[38;5;241m.\u001b[39mstamp(\u001b[38;5;124m\"\u001b[39m\u001b[38;5;124mconstraint_force\u001b[39m\u001b[38;5;124m\"\u001b[39m)\n\u001b[1;32m   1374\u001b[0m \u001b[38;5;28mself\u001b[39m\u001b[38;5;241m.\u001b[39m_kernel_step_2()\n",
      "File \u001b[0;32m~/miniconda3/lib/python3.12/site-packages/genesis/engine/solvers/rigid/rigid_solver_decomp.py:1461\u001b[0m, in \u001b[0;36mRigidSolver._func_constraint_force\u001b[0;34m(self)\u001b[0m\n\u001b[1;32m   1458\u001b[0m     \u001b[38;5;28mself\u001b[39m\u001b[38;5;241m.\u001b[39mcollider\u001b[38;5;241m.\u001b[39mdetection()\n\u001b[1;32m   1459\u001b[0m     timer\u001b[38;5;241m.\u001b[39mstamp(\u001b[38;5;124m\"\u001b[39m\u001b[38;5;124mdetection\u001b[39m\u001b[38;5;124m\"\u001b[39m)\n\u001b[0;32m-> 1461\u001b[0m \u001b[38;5;28;43mself\u001b[39;49m\u001b[38;5;241;43m.\u001b[39;49m\u001b[43mconstraint_solver\u001b[49m\u001b[38;5;241;43m.\u001b[39;49m\u001b[43mhandle_constraints\u001b[49m\u001b[43m(\u001b[49m\u001b[43m)\u001b[49m\n\u001b[1;32m   1462\u001b[0m timer\u001b[38;5;241m.\u001b[39mstamp(\u001b[38;5;124m\"\u001b[39m\u001b[38;5;124mconstraint_solver.handle_constraints\u001b[39m\u001b[38;5;124m\"\u001b[39m)\n",
      "File \u001b[0;32m~/miniconda3/lib/python3.12/site-packages/genesis/engine/solvers/rigid/constraint_solver_decomp.py:412\u001b[0m, in \u001b[0;36mConstraintSolver.handle_constraints\u001b[0;34m(self)\u001b[0m\n\u001b[1;32m    409\u001b[0m     \u001b[38;5;28mself\u001b[39m\u001b[38;5;241m.\u001b[39madd_joint_limit_constraints()\n\u001b[1;32m    411\u001b[0m \u001b[38;5;28;01mif\u001b[39;00m \u001b[38;5;28mself\u001b[39m\u001b[38;5;241m.\u001b[39m_solver\u001b[38;5;241m.\u001b[39m_enable_collision \u001b[38;5;129;01mor\u001b[39;00m \u001b[38;5;28mself\u001b[39m\u001b[38;5;241m.\u001b[39m_solver\u001b[38;5;241m.\u001b[39m_enable_joint_limit:\n\u001b[0;32m--> 412\u001b[0m     \u001b[38;5;28;43mself\u001b[39;49m\u001b[38;5;241;43m.\u001b[39;49m\u001b[43mresolve\u001b[49m\u001b[43m(\u001b[49m\u001b[43m)\u001b[49m\n",
      "File \u001b[0;32m~/miniconda3/lib/python3.12/site-packages/genesis/engine/solvers/rigid/constraint_solver_decomp.py:420\u001b[0m, in \u001b[0;36mConstraintSolver.resolve\u001b[0;34m(self)\u001b[0m\n\u001b[1;32m    418\u001b[0m \u001b[38;5;28mself\u001b[39m\u001b[38;5;241m.\u001b[39m_func_init_solver()\n\u001b[1;32m    419\u001b[0m timer\u001b[38;5;241m.\u001b[39mstamp(\u001b[38;5;124m\"\u001b[39m\u001b[38;5;124m_func_init_solver\u001b[39m\u001b[38;5;124m\"\u001b[39m)\n\u001b[0;32m--> 420\u001b[0m \u001b[38;5;28;43mself\u001b[39;49m\u001b[38;5;241;43m.\u001b[39;49m\u001b[43m_func_solve\u001b[49m\u001b[43m(\u001b[49m\u001b[43m)\u001b[49m\n\u001b[1;32m    421\u001b[0m timer\u001b[38;5;241m.\u001b[39mstamp(\u001b[38;5;124m\"\u001b[39m\u001b[38;5;124m_func_solve\u001b[39m\u001b[38;5;124m\"\u001b[39m)\n\u001b[1;32m    422\u001b[0m \u001b[38;5;28mself\u001b[39m\u001b[38;5;241m.\u001b[39m_func_update_qacc()\n",
      "File \u001b[0;32m~/miniconda3/lib/python3.12/site-packages/taichi/lang/kernel_impl.py:1174\u001b[0m, in \u001b[0;36m_BoundedDifferentiableMethod.__call__\u001b[0;34m(self, *args, **kwargs)\u001b[0m\n\u001b[1;32m   1172\u001b[0m     \u001b[38;5;28;01mif\u001b[39;00m \u001b[38;5;28mself\u001b[39m\u001b[38;5;241m.\u001b[39m_is_staticmethod:\n\u001b[1;32m   1173\u001b[0m         \u001b[38;5;28;01mreturn\u001b[39;00m \u001b[38;5;28mself\u001b[39m\u001b[38;5;241m.\u001b[39m_primal(\u001b[38;5;241m*\u001b[39margs, \u001b[38;5;241m*\u001b[39m\u001b[38;5;241m*\u001b[39mkwargs)\n\u001b[0;32m-> 1174\u001b[0m     \u001b[38;5;28;01mreturn\u001b[39;00m \u001b[38;5;28;43mself\u001b[39;49m\u001b[38;5;241;43m.\u001b[39;49m\u001b[43m_primal\u001b[49m\u001b[43m(\u001b[49m\u001b[38;5;28;43mself\u001b[39;49m\u001b[38;5;241;43m.\u001b[39;49m\u001b[43m_kernel_owner\u001b[49m\u001b[43m,\u001b[49m\u001b[43m \u001b[49m\u001b[38;5;241;43m*\u001b[39;49m\u001b[43margs\u001b[49m\u001b[43m,\u001b[49m\u001b[43m \u001b[49m\u001b[38;5;241;43m*\u001b[39;49m\u001b[38;5;241;43m*\u001b[39;49m\u001b[43mkwargs\u001b[49m\u001b[43m)\u001b[49m\n\u001b[1;32m   1175\u001b[0m \u001b[38;5;28;01mexcept\u001b[39;00m (TaichiCompilationError, TaichiRuntimeError) \u001b[38;5;28;01mas\u001b[39;00m e:\n\u001b[1;32m   1176\u001b[0m     \u001b[38;5;28;01mif\u001b[39;00m impl\u001b[38;5;241m.\u001b[39mget_runtime()\u001b[38;5;241m.\u001b[39mprint_full_traceback:\n",
      "File \u001b[0;32m~/miniconda3/lib/python3.12/site-packages/taichi/lang/shell.py:27\u001b[0m, in \u001b[0;36m_shell_pop_print.<locals>.new_call\u001b[0;34m(*args, **kwargs)\u001b[0m\n\u001b[1;32m     25\u001b[0m \u001b[38;5;129m@functools\u001b[39m\u001b[38;5;241m.\u001b[39mwraps(old_call)\n\u001b[1;32m     26\u001b[0m \u001b[38;5;28;01mdef\u001b[39;00m \u001b[38;5;21mnew_call\u001b[39m(\u001b[38;5;241m*\u001b[39margs, \u001b[38;5;241m*\u001b[39m\u001b[38;5;241m*\u001b[39mkwargs):\n\u001b[0;32m---> 27\u001b[0m     ret \u001b[38;5;241m=\u001b[39m \u001b[43mold_call\u001b[49m\u001b[43m(\u001b[49m\u001b[38;5;241;43m*\u001b[39;49m\u001b[43margs\u001b[49m\u001b[43m,\u001b[49m\u001b[43m \u001b[49m\u001b[38;5;241;43m*\u001b[39;49m\u001b[38;5;241;43m*\u001b[39;49m\u001b[43mkwargs\u001b[49m\u001b[43m)\u001b[49m\n\u001b[1;32m     28\u001b[0m     \u001b[38;5;66;03m# print's in kernel won't take effect until ti.sync(), discussion:\u001b[39;00m\n\u001b[1;32m     29\u001b[0m     \u001b[38;5;66;03m# https://github.com/taichi-dev/taichi/pull/1303#discussion_r444897102\u001b[39;00m\n\u001b[1;32m     30\u001b[0m     \u001b[38;5;28mprint\u001b[39m(_ti_core\u001b[38;5;241m.\u001b[39mpop_python_print_buffer(), end\u001b[38;5;241m=\u001b[39m\u001b[38;5;124m\"\u001b[39m\u001b[38;5;124m\"\u001b[39m)\n",
      "File \u001b[0;32m~/miniconda3/lib/python3.12/site-packages/taichi/lang/kernel_impl.py:1045\u001b[0m, in \u001b[0;36mKernel.__call__\u001b[0;34m(self, *args, **kwargs)\u001b[0m\n\u001b[1;32m   1043\u001b[0m key \u001b[38;5;241m=\u001b[39m \u001b[38;5;28mself\u001b[39m\u001b[38;5;241m.\u001b[39mensure_compiled(\u001b[38;5;241m*\u001b[39margs)\n\u001b[1;32m   1044\u001b[0m kernel_cpp \u001b[38;5;241m=\u001b[39m \u001b[38;5;28mself\u001b[39m\u001b[38;5;241m.\u001b[39mcompiled_kernels[key]\n\u001b[0;32m-> 1045\u001b[0m \u001b[38;5;28;01mreturn\u001b[39;00m \u001b[38;5;28;43mself\u001b[39;49m\u001b[38;5;241;43m.\u001b[39;49m\u001b[43mlaunch_kernel\u001b[49m\u001b[43m(\u001b[49m\u001b[43mkernel_cpp\u001b[49m\u001b[43m,\u001b[49m\u001b[43m \u001b[49m\u001b[38;5;241;43m*\u001b[39;49m\u001b[43margs\u001b[49m\u001b[43m)\u001b[49m\n",
      "File \u001b[0;32m~/miniconda3/lib/python3.12/site-packages/taichi/lang/kernel_impl.py:971\u001b[0m, in \u001b[0;36mKernel.launch_kernel\u001b[0;34m(self, t_kernel, *args)\u001b[0m\n\u001b[1;32m    969\u001b[0m     compiled_kernel_data \u001b[38;5;241m=\u001b[39m prog\u001b[38;5;241m.\u001b[39mcompile_kernel(prog\u001b[38;5;241m.\u001b[39mconfig(), prog\u001b[38;5;241m.\u001b[39mget_device_caps(), t_kernel)\n\u001b[1;32m    970\u001b[0m     \u001b[38;5;66;03m# Launch kernel\u001b[39;00m\n\u001b[0;32m--> 971\u001b[0m     \u001b[43mprog\u001b[49m\u001b[38;5;241;43m.\u001b[39;49m\u001b[43mlaunch_kernel\u001b[49m\u001b[43m(\u001b[49m\u001b[43mcompiled_kernel_data\u001b[49m\u001b[43m,\u001b[49m\u001b[43m \u001b[49m\u001b[43mlaunch_ctx\u001b[49m\u001b[43m)\u001b[49m\n\u001b[1;32m    972\u001b[0m \u001b[38;5;28;01mexcept\u001b[39;00m \u001b[38;5;167;01mException\u001b[39;00m \u001b[38;5;28;01mas\u001b[39;00m e:\n\u001b[1;32m    973\u001b[0m     e \u001b[38;5;241m=\u001b[39m handle_exception_from_cpp(e)\n",
      "\u001b[0;31mKeyboardInterrupt\u001b[0m: "
     ]
    }
   ],
   "source": [
    "for i in range(1000):\n",
    "    print(i)\n",
    "    scene.step()"
   ]
  },
  {
   "cell_type": "code",
   "execution_count": null,
   "metadata": {},
   "outputs": [],
   "source": []
  }
 ],
 "metadata": {
  "kernelspec": {
   "display_name": "base",
   "language": "python",
   "name": "python3"
  },
  "language_info": {
   "codemirror_mode": {
    "name": "ipython",
    "version": 3
   },
   "file_extension": ".py",
   "mimetype": "text/x-python",
   "name": "python",
   "nbconvert_exporter": "python",
   "pygments_lexer": "ipython3",
   "version": "3.12.2"
  }
 },
 "nbformat": 4,
 "nbformat_minor": 2
}
