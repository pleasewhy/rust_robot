{
 "cells": [
  {
   "cell_type": "code",
   "execution_count": null,
   "metadata": {},
   "outputs": [],
   "source": [
    "import genesis as gs\n",
    "gs.init(backend=gs.cpu, theme=\"light\")"
   ]
  },
  {
   "cell_type": "code",
   "execution_count": null,
   "metadata": {},
   "outputs": [],
   "source": [
    "import torch\n",
    "import genesis as gs\n",
    "\n",
    "# gs.init(backend=gs.gpu, theme=\"light\")\n",
    "\n",
    "scene = gs.Scene(\n",
    "    show_viewer   = False,\n",
    "    rigid_options = gs.options.RigidOptions(\n",
    "        dt                = 0.01,\n",
    "    ),\n",
    ")\n",
    "\n",
    "plane = scene.add_entity(\n",
    "    gs.morphs.Plane(),\n",
    ")\n",
    "\n",
    "franka = scene.add_entity(\n",
    "    gs.morphs.MJCF(file='/Users/hy/Desktop/workplace/rust_robot/humanoid.xml'),\n",
    ")\n",
    "\n",
    "scene.build(n_envs=30000)"
   ]
  },
  {
   "cell_type": "code",
   "execution_count": null,
   "metadata": {},
   "outputs": [],
   "source": []
  },
  {
   "cell_type": "code",
   "execution_count": null,
   "metadata": {},
   "outputs": [],
   "source": [
    "import torch\n",
    "import time"
   ]
  },
  {
   "cell_type": "code",
   "execution_count": null,
   "metadata": {},
   "outputs": [],
   "source": [
    "start = time.time()\n",
    "t1 = torch.rand((10000000, 1000))\n",
    "t2 = torch.rand((1000, 10000))\n",
    "t3 = t1 @ t2\n",
    "time.time() - start"
   ]
  },
  {
   "cell_type": "code",
   "execution_count": 5,
   "metadata": {},
   "outputs": [
    {
     "name": "stdout",
     "output_type": "stream",
     "text": [
      "True\n",
      "True\n",
      "warmup 0.019461624993709847 0.4421567500103265\n"
     ]
    }
   ],
   "source": [
    "import torch\n",
    "\n",
    "# this ensures that the current macOS version is at least 12.3+\n",
    "print(torch.backends.mps.is_available())\n",
    "# this ensures that the current PyTorch installation was built with MPS activated.\n",
    "print(torch.backends.mps.is_built())\n",
    "\n",
    "N = 10000000\n",
    "\n",
    "device = torch.device(\"mps\")\n",
    "\n",
    "cpu_a = torch.randn([1, N])\n",
    "cpu_b = torch.randn([N, 1])\n",
    "# print(N, cpu_a.device, cpu_b.device)\n",
    "\n",
    "gpu_a = torch.randn([1, N], device=device)\n",
    "gpu_b = torch.randn([N, 1], device=device)\n",
    "\n",
    "\n",
    "# print(N, gpu_a.device, gpu_b.device)\n",
    "\n",
    "\n",
    "def cpu_run():\n",
    "    c = torch.matmul(cpu_a, cpu_b)\n",
    "    return c\n",
    "\n",
    "\n",
    "def gpu_run():\n",
    "    c = torch.matmul(gpu_a, gpu_b)\n",
    "    return c\n",
    "\n",
    "\n",
    "import timeit\n",
    "\n",
    "cpu_time = timeit.timeit(cpu_run, number=3)\n",
    "gpu_time = timeit.timeit(gpu_run, number=3)\n",
    "print('warmup', cpu_time, gpu_time)"
   ]
  },
  {
   "cell_type": "code",
   "execution_count": 23,
   "metadata": {},
   "outputs": [],
   "source": [
    "import torch\n",
    "\n",
    "N = int(1e9)\n",
    "\n",
    "device = torch.device(\"mps\")\n",
    "\n",
    "cpu_a = torch.randn((1, N))\n",
    "# print(N, cpu_a.device, cpu_b.device)\n",
    "\n",
    "gpu_a = torch.randn((1, N), device=device)"
   ]
  },
  {
   "cell_type": "code",
   "execution_count": 24,
   "metadata": {},
   "outputs": [
    {
     "data": {
      "text/plain": [
       "tensor([[ 0.2817, -0.6063,  0.6307,  ...,  0.9064, -0.5076,  0.2918]],\n",
       "       device='mps:0')"
      ]
     },
     "execution_count": 24,
     "metadata": {},
     "output_type": "execute_result"
    }
   ],
   "source": [
    "gpu_a.tanh()"
   ]
  },
  {
   "cell_type": "code",
   "execution_count": 25,
   "metadata": {},
   "outputs": [
    {
     "data": {
      "text/plain": [
       "tensor([[ 0.0643, -0.9139,  0.8556,  ..., -0.0471,  0.4255, -0.5261]])"
      ]
     },
     "execution_count": 25,
     "metadata": {},
     "output_type": "execute_result"
    }
   ],
   "source": [
    "cpu_a.tanh()"
   ]
  },
  {
   "cell_type": "code",
   "execution_count": null,
   "metadata": {},
   "outputs": [],
   "source": []
  }
 ],
 "metadata": {
  "kernelspec": {
   "display_name": "base",
   "language": "python",
   "name": "python3"
  },
  "language_info": {
   "codemirror_mode": {
    "name": "ipython",
    "version": 3
   },
   "file_extension": ".py",
   "mimetype": "text/x-python",
   "name": "python",
   "nbconvert_exporter": "python",
   "pygments_lexer": "ipython3",
   "version": "3.12.2"
  }
 },
 "nbformat": 4,
 "nbformat_minor": 2
}
